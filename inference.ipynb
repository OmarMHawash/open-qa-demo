{
 "cells": [
  {
   "cell_type": "code",
   "execution_count": 3,
   "metadata": {},
   "outputs": [],
   "source": [
    "from elasticsearch import Elasticsearch\n",
    "from transformers import pipeline\n",
    "\n",
    "index_name = \"qa_dataset\"\n",
    "es = Elasticsearch(['http://localhost:9200'], basic_auth=('elastic', 'elastic'))\n",
    "question_answerer = pipeline(\"question-answering\", model=\"app\\models\\checkpoint-7971\")\n",
    "\n",
    "def context_gen_from_elasticsearch(question):\n",
    "  contexts = []\n",
    "  body = {\n",
    "    \"query\": {\n",
    "      \"multi_match\": {\n",
    "        \"query\": question,\n",
    "        \"fields\": [\n",
    "          \"title^3\",\n",
    "          \"question^2\",\n",
    "          \"context\"\n",
    "        ],\n",
    "        \"fuzziness\": \"AUTO\"\n",
    "      }\n",
    "    }\n",
    "  }\n",
    "\n",
    "  response = es.search(index=index_name, body=body)\n",
    "  top_hits = response[\"hits\"][\"hits\"]\n",
    "  for hit in top_hits:\n",
    "    contexts.append(hit[\"_source\"][\"context\"])\n",
    "  return contexts\n",
    "\n",
    "def answer_question(question, k=3):\n",
    "  contexts = context_gen_from_elasticsearch(question)\n",
    "  unique_answers = set()\n",
    "  results = []\n",
    "  for c in contexts:\n",
    "    model_out = question_answerer(question=question, context=c)\n",
    "    result = {\n",
    "      \"answer\": model_out[\"answer\"],\n",
    "      \"score\": model_out[\"score\"],\n",
    "      \"context\": c\n",
    "    }\n",
    "    \n",
    "    if result[\"answer\"] not in unique_answers:\n",
    "      results.append(result)\n",
    "      unique_answers.add(result[\"answer\"])\n",
    "  \n",
    "  results.sort(key=lambda x: x['score'], reverse=True)\n",
    "  prompt_answer = \"\"\n",
    "  for r in results[:k]:\n",
    "    prompt_answer += r['answer'].replace('.','') + \", \"\n",
    "  prompt_answer = prompt_answer[:-2] + \".\"\n",
    "  return prompt_answer"
   ]
  },
  {
   "cell_type": "code",
   "execution_count": 16,
   "metadata": {},
   "outputs": [
    {
     "data": {
      "text/plain": [
       "'Washington, USB, micro-USB receptacles.'"
      ]
     },
     "execution_count": 16,
     "metadata": {},
     "output_type": "execute_result"
    }
   ],
   "source": [
    "question = \"What is the capital of USA\"\n",
    "answer_question(question)"
   ]
  },
  {
   "cell_type": "code",
   "execution_count": 9,
   "metadata": {},
   "outputs": [
    {
     "name": "stdout",
     "output_type": "stream",
     "text": [
      "{'score': 0.5759463906288147, 'start': 77, 'end': 90, 'answer': 'November 1969'}\n",
      "{'score': 0.5759463906288147, 'start': 77, 'end': 90, 'answer': 'November 1969'}\n",
      "{'score': 0.1969580203294754, 'start': 1518, 'end': 1522, 'answer': '1895'}\n",
      "{'score': 0.13519753515720367, 'start': 740, 'end': 753, 'answer': 'July 31, 1964'}\n",
      "{'score': 0.6445551514625549, 'start': 145, 'end': 149, 'answer': '1994'}\n",
      "{'score': 0.14042796194553375, 'start': 386, 'end': 404, 'answer': 'September 14, 1959'}\n",
      "{'score': 0.6524192094802856, 'start': 534, 'end': 547, 'answer': 'July 20, 1969'}\n",
      "{'score': 0.03875073418021202, 'start': 5, 'end': 27, 'answer': 'July to September 1989'}\n",
      "{'score': 0.42686399817466736, 'start': 283, 'end': 293, 'answer': 'March 1969'}\n",
      "{'score': 0.9269189834594727, 'start': 1144, 'end': 1157, 'answer': 'July 20, 1969'}\n"
     ]
    }
   ],
   "source": [
    "# scores representation:\n",
    "question = \"when was the first moon landing\"\n",
    "\n",
    "conts = context_gen_from_elasticsearch(question)\n",
    "for c in conts:\n",
    "  print(question_answerer(question=question, context=c))"
   ]
  }
 ],
 "metadata": {
  "kernelspec": {
   "display_name": "base",
   "language": "python",
   "name": "python3"
  },
  "language_info": {
   "codemirror_mode": {
    "name": "ipython",
    "version": 3
   },
   "file_extension": ".py",
   "mimetype": "text/x-python",
   "name": "python",
   "nbconvert_exporter": "python",
   "pygments_lexer": "ipython3",
   "version": "3.11.7"
  }
 },
 "nbformat": 4,
 "nbformat_minor": 2
}
