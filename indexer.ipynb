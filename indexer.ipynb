{
 "cells": [
  {
   "cell_type": "markdown",
   "metadata": {},
   "source": [
    "### 1. importing dataset"
   ]
  },
  {
   "cell_type": "code",
   "execution_count": 3,
   "metadata": {},
   "outputs": [],
   "source": [
    "from datasets import load_dataset\n",
    "# dataset-1: open-phi/programming_books_llama\n",
    "# dataset-2: squad (question answering)\n",
    "data = load_dataset('squad')"
   ]
  },
  {
   "cell_type": "code",
   "execution_count": 4,
   "metadata": {},
   "outputs": [
    {
     "data": {
      "text/plain": [
       "{'id': '5733bf84d058e614000b61be',\n",
       " 'title': 'University_of_Notre_Dame',\n",
       " 'context': \"As at most other universities, Notre Dame's students run a number of news media outlets. The nine student-run outlets include three newspapers, both a radio and television station, and several magazines and journals. Begun as a one-page journal in September 1876, the Scholastic magazine is issued twice monthly and claims to be the oldest continuous collegiate publication in the United States. The other magazine, The Juggler, is released twice a year and focuses on student literature and artwork. The Dome yearbook is published annually. The newspapers have varying publication interests, with The Observer published daily and mainly reporting university and other news, and staffed by students from both Notre Dame and Saint Mary's College. Unlike Scholastic and The Dome, The Observer is an independent publication and does not have a faculty advisor or any editorial oversight from the University. In 1987, when some students believed that The Observer began to show a conservative bias, a liberal newspaper, Common Sense was published. Likewise, in 2003, when other students believed that the paper showed a liberal bias, the conservative paper Irish Rover went into production. Neither paper is published as often as The Observer; however, all three are distributed to all students. Finally, in Spring 2008 an undergraduate journal for political science research, Beyond Politics, made its debut.\",\n",
       " 'question': 'When did the Scholastic Magazine of Notre dame begin publishing?',\n",
       " 'answers': {'text': ['September 1876'], 'answer_start': [248]}}"
      ]
     },
     "execution_count": 4,
     "metadata": {},
     "output_type": "execute_result"
    }
   ],
   "source": [
    "data['train'][5]"
   ]
  },
  {
   "cell_type": "markdown",
   "metadata": {},
   "source": [
    "### 2. setting up elastic search index"
   ]
  },
  {
   "cell_type": "code",
   "execution_count": 7,
   "metadata": {},
   "outputs": [
    {
     "data": {
      "text/plain": [
       "ObjectApiResponse({'acknowledged': True, 'shards_acknowledged': True, 'index': 'qa_dataset'})"
      ]
     },
     "execution_count": 7,
     "metadata": {},
     "output_type": "execute_result"
    }
   ],
   "source": [
    "from elasticsearch import Elasticsearch\n",
    "es = Elasticsearch(['http://localhost:9200'], basic_auth=('elastic', 'elastic'))\n",
    "# Define your index name\n",
    "index_name = \"qa_dataset\"\n",
    "\n",
    "# Define the index configuration\n",
    "index_config = {\n",
    "  \"settings\": {\n",
    "    \"analysis\": {\n",
    "      \"analyzer\": {\n",
    "        \"autocomplete\": {\n",
    "          \"tokenizer\": \"autocomplete\",\n",
    "          \"filter\": [\"lowercase\", \"stop\", \"porter_stem\"],\n",
    "          \"char_filter\": [\"html_strip\"]\n",
    "        },\n",
    "        \"standard_analyzer\": {\n",
    "          \"type\": \"standard\",\n",
    "          \"stopwords\": \"_english_\"\n",
    "        }\n",
    "      },\n",
    "      \"tokenizer\": {\n",
    "        \"autocomplete\": {\n",
    "          \"type\": \"edge_ngram\",\n",
    "          \"min_gram\": 3,\n",
    "          \"max_gram\": 10,\n",
    "          \"token_chars\": [\"letter\"]\n",
    "        }\n",
    "      }\n",
    "    }\n",
    "  },\n",
    "  \"mappings\": {\n",
    "    \"properties\": {\n",
    "      \"title\": {\n",
    "        \"type\": \"text\",\n",
    "        \"analyzer\": \"autocomplete\",\n",
    "        \"search_analyzer\": \"standard\"\n",
    "      },\n",
    "      \"question\": {\n",
    "        \"type\": \"text\",\n",
    "        \"analyzer\": \"standard_analyzer\"\n",
    "      },\n",
    "      \"context\": {\n",
    "        \"type\": \"text\",\n",
    "        \"analyzer\": \"standard_analyzer\"\n",
    "      }\n",
    "    }\n",
    "  }\n",
    "}\n",
    "\n",
    "if es.indices.exists(index=index_name):\n",
    "  es.indices.delete(index=index_name)\n",
    "es.indices.create(index=index_name, body=index_config)"
   ]
  },
  {
   "cell_type": "markdown",
   "metadata": {},
   "source": [
    "### 3. indexing the dataset"
   ]
  },
  {
   "cell_type": "code",
   "execution_count": 8,
   "metadata": {},
   "outputs": [
    {
     "name": "stdout",
     "output_type": "stream",
     "text": [
      "Processing bulk: 1000 records\n",
      "Processing bulk: 2000 records\n",
      "Processing bulk: 3000 records\n",
      "Processing bulk: 4000 records\n",
      "Processing bulk: 5000 records\n",
      "Processing bulk: 6000 records\n",
      "Processing bulk: 7000 records\n",
      "Processing bulk: 8000 records\n",
      "Processing bulk: 9000 records\n",
      "Processing bulk: 10000 records\n",
      "Processing bulk: 11000 records\n",
      "Processing bulk: 12000 records\n",
      "Processing bulk: 13000 records\n",
      "Processing bulk: 14000 records\n",
      "Processing bulk: 15000 records\n",
      "Processing bulk: 16000 records\n",
      "Processing bulk: 17000 records\n",
      "Processing bulk: 18000 records\n",
      "Processing bulk: 19000 records\n",
      "Processing bulk: 20000 records\n",
      "Processing bulk: 21000 records\n",
      "Processing bulk: 22000 records\n",
      "Processing bulk: 23000 records\n",
      "Processing bulk: 24000 records\n",
      "Processing bulk: 25000 records\n",
      "Processing bulk: 26000 records\n",
      "Processing bulk: 27000 records\n",
      "Processing bulk: 28000 records\n",
      "Processing bulk: 29000 records\n",
      "Processing bulk: 30000 records\n",
      "Processing bulk: 31000 records\n",
      "Processing bulk: 32000 records\n",
      "Processing bulk: 33000 records\n",
      "Processing bulk: 34000 records\n",
      "Processing bulk: 35000 records\n",
      "Processing bulk: 36000 records\n",
      "Processing bulk: 37000 records\n",
      "Processing bulk: 38000 records\n",
      "Processing bulk: 39000 records\n",
      "Processing bulk: 40000 records\n",
      "Processing bulk: 41000 records\n",
      "Processing bulk: 42000 records\n",
      "Processing bulk: 43000 records\n",
      "Processing bulk: 44000 records\n",
      "Processing bulk: 45000 records\n",
      "Processing bulk: 46000 records\n",
      "Processing bulk: 47000 records\n",
      "Processing bulk: 48000 records\n",
      "Processing bulk: 49000 records\n",
      "Processing bulk: 50000 records\n",
      "Processing bulk: 51000 records\n",
      "Processing bulk: 52000 records\n",
      "Processing bulk: 53000 records\n",
      "Processing bulk: 54000 records\n",
      "Processing bulk: 55000 records\n",
      "Processing bulk: 56000 records\n",
      "Processing bulk: 57000 records\n",
      "Processing bulk: 58000 records\n",
      "Processing bulk: 59000 records\n",
      "Processing bulk: 60000 records\n",
      "Processing bulk: 61000 records\n",
      "Processing bulk: 62000 records\n",
      "Processing bulk: 63000 records\n",
      "Processing bulk: 64000 records\n",
      "Processing bulk: 65000 records\n",
      "Processing bulk: 66000 records\n",
      "Processing bulk: 67000 records\n",
      "Processing bulk: 68000 records\n",
      "Processing bulk: 69000 records\n",
      "Processing bulk: 70000 records\n",
      "Processing bulk: 71000 records\n",
      "Processing bulk: 72000 records\n",
      "Processing bulk: 73000 records\n",
      "Processing bulk: 74000 records\n",
      "Processing bulk: 75000 records\n",
      "Processing bulk: 76000 records\n",
      "Processing bulk: 77000 records\n",
      "Processing bulk: 78000 records\n",
      "Processing bulk: 79000 records\n",
      "Processing bulk: 80000 records\n",
      "Processing bulk: 81000 records\n",
      "Processing bulk: 82000 records\n",
      "Processing bulk: 83000 records\n",
      "Processing bulk: 84000 records\n",
      "Processing bulk: 85000 records\n",
      "Processing bulk: 86000 records\n",
      "Processing bulk: 87000 records\n"
     ]
    }
   ],
   "source": [
    "from elasticsearch import helpers\n",
    "bulk_size = 1000\n",
    "index_limit = -1\n",
    "\n",
    "\n",
    "def index_documents(dataset, index_name=index_name):\n",
    "  actions = []\n",
    "  for idx, doc in enumerate(dataset):\n",
    "    if idx > index_limit and index_limit > 0:\n",
    "      break\n",
    "    try:\n",
    "      actions.append({\n",
    "        \"_index\": index_name,\"_id\": int(idx),\n",
    "        \"_source\": {\n",
    "          \"title\": doc[\"title\"],\n",
    "          \"question\": doc[\"question\"],\n",
    "          \"context\": doc[\"context\"]\n",
    "        }\n",
    "      })\n",
    "      if idx % bulk_size == 0 and idx > 0:\n",
    "        print(f\"Processing bulk: {idx} records\")\n",
    "        helpers.bulk(es, actions)\n",
    "        actions = []\n",
    "    except Exception as e:\n",
    "      print(f\"Error processing at key: {idx}\")\n",
    "      print(e)\n",
    "\n",
    "index_documents(data['train'])"
   ]
  },
  {
   "cell_type": "code",
   "execution_count": 9,
   "metadata": {},
   "outputs": [
    {
     "name": "stdout",
     "output_type": "stream",
     "text": [
      "topic: Apollo\n",
      "markdown: Four days after his birth, Apollo killed the chthonic dragon Python, which lived in Delphi beside the Castalian Spring. This was the spring which emitted vapors that caused the oracle at Delphi to give her prophecies. Hera sent the serpent to hunt Leto to her death across the world. To protect his mother, Apollo begged Hephaestus for a bow and arrows. After receiving them, Apollo cornered Python in the sacred cave at Delphi. Apollo killed Python but had to be punished for it, since Python was a child of Gaia.\n",
      "Score: 23.287342\n",
      "\n",
      "topic: Apollo\n",
      "markdown: Four days after his birth, Apollo killed the chthonic dragon Python, which lived in Delphi beside the Castalian Spring. This was the spring which emitted vapors that caused the oracle at Delphi to give her prophecies. Hera sent the serpent to hunt Leto to her death across the world. To protect his mother, Apollo begged Hephaestus for a bow and arrows. After receiving them, Apollo cornered Python in the sacred cave at Delphi. Apollo killed Python but had to be punished for it, since Python was a child of Gaia.\n",
      "Score: 20.280664\n",
      "\n",
      "topic: Insect\n",
      "markdown: Insects (from Latin insectum, a calque of Greek ἔντομον [éntomon], \"cut into sections\") are a class of invertebrates within the arthropod phylum that have a chitinous exoskeleton, a three-part body (head, thorax and abdomen), three pairs of jointed legs, compound eyes and one pair of antennae. They are the most diverse group of animals on the planet, including more than a million described species and representing more than half of all known living organisms. The number of extant species is estimated at between six and ten million, and potentially represent over 90% of the differing animal life forms on Earth. Insects may be found in nearly all environments, although only a small number of species reside in the oceans, a habitat dominated by another arthropod group, crustaceans.\n",
      "Score: 18.88396\n",
      "\n",
      "topic: Insect\n",
      "markdown: Insects (from Latin insectum, a calque of Greek ἔντομον [éntomon], \"cut into sections\") are a class of invertebrates within the arthropod phylum that have a chitinous exoskeleton, a three-part body (head, thorax and abdomen), three pairs of jointed legs, compound eyes and one pair of antennae. They are the most diverse group of animals on the planet, including more than a million described species and representing more than half of all known living organisms. The number of extant species is estimated at between six and ten million, and potentially represent over 90% of the differing animal life forms on Earth. Insects may be found in nearly all environments, although only a small number of species reside in the oceans, a habitat dominated by another arthropod group, crustaceans.\n",
      "Score: 18.88396\n",
      "\n",
      "topic: Insect\n",
      "markdown: Insects (from Latin insectum, a calque of Greek ἔντομον [éntomon], \"cut into sections\") are a class of invertebrates within the arthropod phylum that have a chitinous exoskeleton, a three-part body (head, thorax and abdomen), three pairs of jointed legs, compound eyes and one pair of antennae. They are the most diverse group of animals on the planet, including more than a million described species and representing more than half of all known living organisms. The number of extant species is estimated at between six and ten million, and potentially represent over 90% of the differing animal life forms on Earth. Insects may be found in nearly all environments, although only a small number of species reside in the oceans, a habitat dominated by another arthropod group, crustaceans.\n",
      "Score: 18.88396\n",
      "\n",
      "topic: Insect\n",
      "markdown: Insects (from Latin insectum, a calque of Greek ἔντομον [éntomon], \"cut into sections\") are a class of invertebrates within the arthropod phylum that have a chitinous exoskeleton, a three-part body (head, thorax and abdomen), three pairs of jointed legs, compound eyes and one pair of antennae. They are the most diverse group of animals on the planet, including more than a million described species and representing more than half of all known living organisms. The number of extant species is estimated at between six and ten million, and potentially represent over 90% of the differing animal life forms on Earth. Insects may be found in nearly all environments, although only a small number of species reside in the oceans, a habitat dominated by another arthropod group, crustaceans.\n",
      "Score: 18.88396\n",
      "\n",
      "topic: Insect\n",
      "markdown: Insects (from Latin insectum, a calque of Greek ἔντομον [éntomon], \"cut into sections\") are a class of invertebrates within the arthropod phylum that have a chitinous exoskeleton, a three-part body (head, thorax and abdomen), three pairs of jointed legs, compound eyes and one pair of antennae. They are the most diverse group of animals on the planet, including more than a million described species and representing more than half of all known living organisms. The number of extant species is estimated at between six and ten million, and potentially represent over 90% of the differing animal life forms on Earth. Insects may be found in nearly all environments, although only a small number of species reside in the oceans, a habitat dominated by another arthropod group, crustaceans.\n",
      "Score: 18.88396\n",
      "\n",
      "topic: Insect\n",
      "markdown: Insects (from Latin insectum, a calque of Greek ἔντομον [éntomon], \"cut into sections\") are a class of invertebrates within the arthropod phylum that have a chitinous exoskeleton, a three-part body (head, thorax and abdomen), three pairs of jointed legs, compound eyes and one pair of antennae. They are the most diverse group of animals on the planet, including more than a million described species and representing more than half of all known living organisms. The number of extant species is estimated at between six and ten million, and potentially represent over 90% of the differing animal life forms on Earth. Insects may be found in nearly all environments, although only a small number of species reside in the oceans, a habitat dominated by another arthropod group, crustaceans.\n",
      "Score: 18.88396\n",
      "\n",
      "topic: Insect\n",
      "markdown: Insects (from Latin insectum, a calque of Greek ἔντομον [éntomon], \"cut into sections\") are a class of invertebrates within the arthropod phylum that have a chitinous exoskeleton, a three-part body (head, thorax and abdomen), three pairs of jointed legs, compound eyes and one pair of antennae. They are the most diverse group of animals on the planet, including more than a million described species and representing more than half of all known living organisms. The number of extant species is estimated at between six and ten million, and potentially represent over 90% of the differing animal life forms on Earth. Insects may be found in nearly all environments, although only a small number of species reside in the oceans, a habitat dominated by another arthropod group, crustaceans.\n",
      "Score: 18.88396\n",
      "\n",
      "topic: Insect\n",
      "markdown: Insects (from Latin insectum, a calque of Greek ἔντομον [éntomon], \"cut into sections\") are a class of invertebrates within the arthropod phylum that have a chitinous exoskeleton, a three-part body (head, thorax and abdomen), three pairs of jointed legs, compound eyes and one pair of antennae. They are the most diverse group of animals on the planet, including more than a million described species and representing more than half of all known living organisms. The number of extant species is estimated at between six and ten million, and potentially represent over 90% of the differing animal life forms on Earth. Insects may be found in nearly all environments, although only a small number of species reside in the oceans, a habitat dominated by another arthropod group, crustaceans.\n",
      "Score: 18.88396\n",
      "\n"
     ]
    }
   ],
   "source": [
    "question = \"optimize code performance in python\"\n",
    "\n",
    "body = {\n",
    "  \"query\": {\n",
    "    \"multi_match\": {\n",
    "      \"query\": question,\n",
    "      \"fields\": [\n",
    "        \"title^3\",\n",
    "        \"question^2\",\n",
    "        \"context\"\n",
    "      ],\n",
    "      \"fuzziness\": \"AUTO\"\n",
    "    }\n",
    "  }\n",
    "}\n",
    "\n",
    "# Assuming 'es' is your Elasticsearch client and 'index_name' is the name of your index\n",
    "response = es.search(index=index_name, body=body)\n",
    "top_hits = response[\"hits\"][\"hits\"]\n",
    "\n",
    "for hit in top_hits:\n",
    "  print(f\"topic: {hit['_source']['title']}\")\n",
    "  print(f\"markdown: {hit['_source']['context']}\")\n",
    "  print(f\"Score: {hit['_score']}\\n\")"
   ]
  },
  {
   "cell_type": "code",
   "execution_count": null,
   "metadata": {},
   "outputs": [],
   "source": []
  }
 ],
 "metadata": {
  "kernelspec": {
   "display_name": "base",
   "language": "python",
   "name": "python3"
  },
  "language_info": {
   "codemirror_mode": {
    "name": "ipython",
    "version": 3
   },
   "file_extension": ".py",
   "mimetype": "text/x-python",
   "name": "python",
   "nbconvert_exporter": "python",
   "pygments_lexer": "ipython3",
   "version": "3.11.7"
  }
 },
 "nbformat": 4,
 "nbformat_minor": 2
}
